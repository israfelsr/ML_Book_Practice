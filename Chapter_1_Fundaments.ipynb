{
  "nbformat": 4,
  "nbformat_minor": 0,
  "metadata": {
    "kernelspec": {
      "display_name": "Python 3",
      "language": "python",
      "name": "python3"
    },
    "language_info": {
      "codemirror_mode": {
        "name": "ipython",
        "version": 3
      },
      "file_extension": ".py",
      "mimetype": "text/x-python",
      "name": "python",
      "nbconvert_exporter": "python",
      "pygments_lexer": "ipython3",
      "version": "3.6.5"
    },
    "colab": {
      "name": "Chapter 1 - Fundaments.ipynb",
      "provenance": [],
      "include_colab_link": true
    }
  },
  "cells": [
    {
      "cell_type": "markdown",
      "metadata": {
        "id": "view-in-github",
        "colab_type": "text"
      },
      "source": [
        "<a href=\"https://colab.research.google.com/github/israfelsr/ML_Book_Practice/blob/master/Chapter_1_Fundaments.ipynb\" target=\"_parent\"><img src=\"https://colab.research.google.com/assets/colab-badge.svg\" alt=\"Open In Colab\"/></a>"
      ]
    },
    {
      "cell_type": "markdown",
      "metadata": {
        "id": "xKkr8aR2d0Y7",
        "colab_type": "text"
      },
      "source": [
        "# Set UP"
      ]
    },
    {
      "cell_type": "code",
      "metadata": {
        "id": "o4MRKPrwd0Y_",
        "colab_type": "code",
        "colab": {
          "base_uri": "https://localhost:8080/",
          "height": 54
        },
        "outputId": "fe14786f-ff56-4b92-b515-8758f02f3d20"
      },
      "source": [
        "# Common imports\n",
        "import matplotlib as mpl\n",
        "import matplotlib.pyplot as plt\n",
        "import numpy as np\n",
        "import pandas as pd\n",
        "import sklearn.linear_model\n",
        "\n",
        "import os\n",
        "\n",
        "# To plot figures\n",
        "%matplotlib inline\n",
        "mpl.rc('axes', labelsize=14)\n",
        "mpl.rc('xtick', labelsize=12)\n",
        "mpl.rc('ytick', labelsize=12)\n",
        "\n",
        "from google.colab import drive\n",
        "drive.mount('/content/drive')"
      ],
      "execution_count": 1,
      "outputs": [
        {
          "output_type": "stream",
          "text": [
            "Drive already mounted at /content/drive; to attempt to forcibly remount, call drive.mount(\"/content/drive\", force_remount=True).\n"
          ],
          "name": "stdout"
        }
      ]
    },
    {
      "cell_type": "code",
      "metadata": {
        "id": "Lyksj-2BkW-9",
        "colab_type": "code",
        "colab": {
          "base_uri": "https://localhost:8080/",
          "height": 34
        },
        "outputId": "52458f99-4fd3-42df-dc57-dde8340ca6f7"
      },
      "source": [
        "%cd /content/drive/My\\ Drive/Projects/oreilly_machine_learning"
      ],
      "execution_count": 2,
      "outputs": [
        {
          "output_type": "stream",
          "text": [
            "/content/drive/My Drive/Projects/oreilly_machine_learning\n"
          ],
          "name": "stdout"
        }
      ]
    },
    {
      "cell_type": "markdown",
      "metadata": {
        "id": "aTyfaeT-d0ZH",
        "colab_type": "text"
      },
      "source": [
        "## Waht is Machine Learnig\n",
        "*A computer program is said to learn from experience E with respect to some task T and some performance measure P, if its performance on T, as measured by P, improves with experience E*. Tom Mitchell, 1997\n",
        "\n",
        "## Types of Machine Learning\n",
        "### Supervised/Unsupervised Learning \n",
        "The machine learning systems can be clasified depending in how much supervision get during training.\n",
        "- Supervised learning: We use labels with the solution of the task\n",
        "- Unsupervised learning: There is no labeled data and the systems tries to get an intuition of the data by itself.\n",
        "- Semisupervised: It works as a mix of the other two. There is a small amount of labeled data and the systems cluster the information by itself.\n",
        "- Reinforcement learning: the active (*system*) is training with rewards and punishments. The active tries to learn a strategy that is call *policy* of actions. \n",
        "\n",
        "\n",
        "\n",
        "## Linear Regression problem"
      ]
    },
    {
      "cell_type": "code",
      "metadata": {
        "id": "0HvLXmlqd0ZJ",
        "colab_type": "code",
        "colab": {}
      },
      "source": [
        "def prepare_country_stats(oecd_bli, gdp_per_capita):\n",
        "    oecd_bli = oecd_bli[oecd_bli['INEQUALITY']=='TOT']\n",
        "    oecd_bli = oecd_bli.pivot(index='Country', columns='Indicator', values='Value')\n",
        "    gdp_per_capita.rename(columns={'2015':'GDP per capita'}, inplace=True)\n",
        "    gdp_per_capita.set_index('Country', inplace=True)\n",
        "    full_country_stats = pd.merge(left=oecd_bli, right=gdp_per_capita, left_index=True, right_index=True)\n",
        "    full_country_stats.sort_values(by='GDP per capita', inplace=True)\n",
        "    remove_indices = [0, 1, 6, 8, 33, 34, 35]\n",
        "    keep_indices = list(set(range(36)) - set(remove_indices))\n",
        "    return full_country_stats[['GDP per capita', 'Life satisfaction']].iloc[keep_indices]"
      ],
      "execution_count": 0,
      "outputs": []
    },
    {
      "cell_type": "code",
      "metadata": {
        "id": "cAy-XrUXd0ZN",
        "colab_type": "code",
        "colab": {
          "base_uri": "https://localhost:8080/",
          "height": 320
        },
        "outputId": "8c67457d-bfe5-45f7-ee82-0bb07624c39a"
      },
      "source": [
        "#Load the data\n",
        "oecd_bli = pd.read_csv('dataset/BLI_05112019191332595.csv', thousands=',')\n",
        "gdp_per_capita = pd.read_csv('dataset/WEO_Data.csv', thousands=',', delimiter=';', encoding='latin1', na_values='n/a')\n",
        "\n",
        "# Prepare the data\n",
        "country_stats = prepare_country_stats(oecd_bli, gdp_per_capita)\n",
        "X = np.c_[country_stats['GDP per capita']]\n",
        "y = np.c_[country_stats['Life satisfaction']]\n",
        "\n",
        "# Visualize the data\n",
        "country_stats.plot(kind='scatter', x='GDP per capita', y='Life satisfaction')\n",
        "plt.show()\n",
        "\n",
        "# Linear reg model and K-nearest neighbors\n",
        "from sklearn.neighbors import KNeighborsRegressor\n",
        "model = sklearn.linear_model.LinearRegression()\n",
        "clf = sklearn.neighbors.KNeighborsRegressor(n_neighbors=3)\n",
        "\n",
        "# Train the model\n",
        "model.fit(X, y)\n",
        "clf.fit(X,y)\n",
        "\n",
        "# Prediction\n",
        "X_new = [[15346]] # Prediction for Chile GDP\n",
        "print(model.predict(X_new))\n",
        "print(clf.predict(X_new))"
      ],
      "execution_count": 4,
      "outputs": [
        {
          "output_type": "display_data",
          "data": {
            "image/png": "[encoded data removed]",
            "text/plain": [
              "<Figure size 432x288 with 1 Axes>"
            ]
          },
          "metadata": {
            "tags": []
          }
        },
        {
          "output_type": "stream",
          "text": [
            "[[5.97872174]]\n",
            "[[6.]]\n"
          ],
          "name": "stdout"
        }
      ]
    },
    {
      "cell_type": "code",
      "metadata": {
        "id": "3ymiGCSKd0ZS",
        "colab_type": "code",
        "colab": {
          "base_uri": "https://localhost:8080/",
          "height": 268
        },
        "outputId": "251060ff-2a9b-48bc-cbd6-0b8442bd9daa"
      },
      "source": [
        "# Regresion visualization\n",
        "plt.plot(X, model.predict(X))\n",
        "plt.scatter(country_stats['GDP per capita'], country_stats['Life satisfaction'])\n",
        "plt.show()"
      ],
      "execution_count": 5,
      "outputs": [
        {
          "output_type": "display_data",
          "data": {
            "image/png": "[encoded data removed]",
            "text/plain": [
              "<Figure size 432x288 with 1 Axes>"
            ]
          },
          "metadata": {
            "tags": []
          }
        }
      ]
    }
  ]
}